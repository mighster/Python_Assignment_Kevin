{
 "cells": [
  {
   "cell_type": "markdown",
   "metadata": {},
   "source": [
    "# Kevin Falk Python Assignment - 2017"
   ]
  },
  {
   "cell_type": "markdown",
   "metadata": {},
   "source": [
    "## Question 1"
   ]
  },
  {
   "cell_type": "code",
   "execution_count": 20,
   "metadata": {
    "collapsed": true
   },
   "outputs": [],
   "source": [
    "## 1 ##\n",
    "#define a new function by def follwed by the function name \"get_sequences_from_file\" in this case.\n",
    "#fasta_fn is the file that has been previously read in.\n",
    "def get_sequences_from_file(fasta_fn):\n",
    "#a new dictionary named \"sequence_data_dict\" is defined which is empty now but will be used within the function.\n",
    "    sequence_data_dict = {}\n",
    "#for loop starts by using biopython's sequence input/output interface \"SeqIO\".\n",
    "#each record starts with a “>” line, SeqIO uses to locate new records in the file read in. \n",
    "#Parse() reads the records in one by one (fasta_fn) which is a \"fasta\" file. \n",
    "    for record in SeqIO.parse(fasta_fn, \"fasta\"):\n",
    "#biopython uses the record.description function.\n",
    "#.split() splits characters separated by white space - here it will split up all the words in the description.\n",
    "        description = record.description.split()\n",
    "#the function creates a species name by taking the first and second index (genus and species) and adding them together.\n",
    "        species_name = description[1] + \" \" + description[2]\n",
    "#fills the aforementioned dictionary (sequence_data_dict) with each individual record including it's species name.    \n",
    "        sequence_data_dict[species_name] = record.seq\n",
    "#returns the now completed dictionary (sequence_data_dict) that contains a record for each species name and its sequence.\n",
    "    return(sequence_data_dict)"
   ]
  },
  {
   "cell_type": "markdown",
   "metadata": {},
   "source": [
    "## Utilize the get_sequences_from_file function to get the sequences from our penguins_cytb.fasta file"
   ]
  },
  {
   "cell_type": "code",
   "execution_count": 21,
   "metadata": {
    "collapsed": false
   },
   "outputs": [],
   "source": [
    "fasta_fn = \"penguins_cytb.fasta\"\n",
    "(get_sequences_from_file(fasta_fn))\n",
    "penguin_library = (get_sequences_from_file(fasta_fn))"
   ]
  },
  {
   "cell_type": "markdown",
   "metadata": {},
   "source": [
    "# Question 2\n",
    "## Write a function that translates a string of nucleotides to amino acids based on Dr. X's pseudo-code suggestion."
   ]
  },
  {
   "cell_type": "code",
   "execution_count": 22,
   "metadata": {
    "collapsed": false
   },
   "outputs": [
    {
     "data": {
      "text/plain": [
       "'MALDLS'"
      ]
     },
     "execution_count": 22,
     "metadata": {},
     "output_type": "execute_result"
    }
   ],
   "source": [
    "## 2 ##\n",
    "from Bio.Data import CodonTable\n",
    "\n",
    "mito_table = CodonTable.unambiguous_dna_by_name[\"Vertebrate Mitochondrial\"]\n",
    "\n",
    "def translate_function(string_nucleotides): \n",
    "    #Bring in the codon table from Biopython\n",
    "    #unambiguous_dna_by_name extends a codon list to include all possible ambigous codons\n",
    "    mito_table = CodonTable.unambiguous_dna_by_name[\"Vertebrate Mitochondrial\"]\n",
    "    #initialize amino_acid variable\n",
    "    amino_acid = \"\"\n",
    "    #start a for loop to step through the sequence at 3 characters at a time\n",
    "    #this is assuming the last codon is a stop codon (as it leaves the last 3 nucleotides out)\n",
    "    for i in range(0, len(string_nucleotides)-3, 3):\n",
    "        \n",
    "        codon = string_nucleotides[i:i+3]\n",
    "        aa = mito_table.forward_table[codon]\n",
    "        amino_acid += aa\n",
    "    return  amino_acid\n",
    "\n",
    "translate_function(\"ATGGCCCTGGACCTTTCCACT\")"
   ]
  },
  {
   "cell_type": "markdown",
   "metadata": {},
   "source": [
    "# Question 3\n",
    "## Write an alternative translation function."
   ]
  },
  {
   "cell_type": "code",
   "execution_count": 23,
   "metadata": {
    "collapsed": false
   },
   "outputs": [
    {
     "name": "stdout",
     "output_type": "stream",
     "text": [
      "Translation to protein of Aptenodytes forsteri : MAPNLRKSHPLLKIINNSLIDLPTPSNISA**NFGSLLGICLTTQILTGLLLAIHYTADTTLAFSSVAHTCRNVQYG*LIRNLHANGASFFFICIYLHIGRGFYYGSYLYKET*NTGIILLLTLMATAFVGYVLP*GQISF*GATVITNLFSAIPYIGQTLVEWT*GGFSVDNPTLTRFFALHFLLPFIIAGLTLIHLTFLHESGSNNPLGIVANSDKIPFHPYYSTKDILGFALILLPLTTLALFSPNLLGDPENFTPANPLVTPPHIKPE*YFLFAYAILRSIPNKLGGVLALAASVLILFLIPLLHKSKQRTIAFRPLSQLLF*ALVANLIILT*VGSQPVEHPFIIIGQLASLTYFTTLLILFPIAGALENKILNH*\n",
      "\n",
      "Translation to protein of Aptenodytes patagonicus : MAPNLRKSHPLLKIINNSLIDLPTPSNISA**NFGSLLGICLTTQILTGLLLAIHYTADTTLAFSSVAHTCRNVQYG*LIRNLHANGASFFFICIYLHIGRGFYYGSYLYKET*NTGIILLLTLIATAFVGYVLPWGQISF*GATVITNLFSAIPYIGQTLVE*A*GGFSVDNPTLTRFFALHFLLPFIIAGLTLIHLTFLHESGSNNPLGIVANSDKIPFHPYYSTKDTLGFALILLPLTTLALFSPNLLGDPENFTPANPLVTPPHIKPE*YFLFAYAILRSIPNKLGGVLALAASVLILFLIPLLHKSKQRTITFRPLSQLLF*TLVANLTILTWIGSQPVEHPFIIIGQLASLTYFTILLILFPLIGTLENKILNH*\n",
      "\n",
      "Translation to protein of Eudyptes chrysocome : MAPNLRKSHPLLKTINNSLIDLPTPSNISA**NFGSLLGICLATQILTGLLLAAHYTADTTLAFSSVAHTCRNVQYG*LIRNLHANGASFFFICIYLHIGRGLYYGSYLYKET*NTGIILLLTLIATAFVGYVLP*GQISF*GATVITNLFSAIPYIGQTLVEWA*GGFSVDNPTLTRFFTLHFLLPFIIAGLTLIHLTFLHESGSNNPLGIVANSDKIPFHPYYSTKDILGFILLLLPLTTLALFSPNLLGDPENFTPANPLVTPPHIKPEWYFLFAYAILRSIPNKLGGVLALAASVLILFLIPLLHKSKQRTITFRPLSQLLF*TLVANLTILT*IGSQPVEHPFIIIGQLASLTYFTILLILFPLIGTLENKILNH*\n",
      "\n",
      "Translation to protein of Eudyptes chrysolophus : MAPNLRKSHPLLKTINNSLIDLPTPSNISA**NFGSLLGICLATQILTGLLLAAHYTADTTLAFSSVAHTCRNVQYG*LIRNLHANGASFFFICIYLHIGRGLYYGSYLYKET*NTGIILLLTLIATAFVGYVLPWGQISF*GATVITNLFSAIPYIGQTLVEWA*GGFSVDNPTLTRFFTLHFLLPFIIAGLTLIHLTFLHESGSNNPLGIVANSDKIPFHPYYSTKDILGFILLLLPLTALALFSPNLLGDPENFTPANPLVTPPHIKPE*YFLFAYAILRSIPNKLGGVLALAASVLILFLIPLLHKSKQRTITFRPLSQLLF*TLVANLTILTWIGSQPVEHPFIIIGQLASLTYFTILLILFPLIGTLENKILNH*\n",
      "\n",
      "Translation to protein of Eudyptes sclateri : MAPNLRKSHPLLKTINNSLIDLPTPSNISA**NFGSLLGICLATQILTGLLLAAHYTADTTLAFSSVAHTCRNVQYG*LIRNLHANGASFFFICIYLHIGRGLYYGSYLYKET*NTGIILLLTLIATAFVGYVLPWGQISF*GATVITNLFSAIPYIGQTLVEWA*GGFSVDNPTLTRFFTLHFLLPFIIAGLTLIHLTFLHESGSNNPLGIVANSDKIPFHPYYSTKDILGFILLLLPLTTLALFSPNLLGDPENFTPANPLVTPPHIKPE*YFLFAYAILRSIPNKLGGVLALAASVLILFLIPLLHKSKQRTITFRPLSQLLF*TLVANLTILT*IGSQPVEHPFIIIGQLASLTYFTILLILFPLIGTLENKILNH*\n",
      "\n",
      "Translation to protein of Eudyptula minor : MAPNLRKSHPLLKIINNSLIDLPTPSNIST**NFGSLLGICLITQILTGLLLAAHYTADTTLAFSSIAHTCRNVQYG*LIRNLHANGASFFFICIYLHIGRGLYYGSYLYKET*NTGIILLITLIATAFVGYVLP*GQISF*GATVITNLFSAIPYIGQTLVE*A*GGFSVDNPTLTRFFALHFLLPFIITGLTLIHLTFLHESGSNNPLGIVANSDKIPFHPYYSTKDILGFILLLLPLTTLALFSPNLLGDPENFTPANPLVTPPHIKPE*YFLFAYAILRSIPNKLGGVLALAASVLILFLIPLLHKSKQRSIAFRPLSQLLF*TLVANLTILT*VGNQPVEHPFIIIGQLASLTYFTILLILFPLAGTLENKILSH*\n",
      "\n",
      "Translation to protein of Pygoscelis adeliae : MAPNLRKSHPLLKIINNSLIDLPTPSNISA**NFGSLLGICLTTQILTGLLLAMHYTADTTLAFSSIAHTCRDVQYG*LIRNLHANGASFFFICIYLHIGRGLYYGSYLYKET*NTGIILLLTLIATAFVGYVLP*GQMSF*GATVITNLFSAIPYIGQTLVEWA*GGFSVDNPTLTRFFALHFLLPFVIIGLTLIHLTFLHESGSNNPLGIVANSDKIPFHPYYSTKDILGFAFILLPLTTLALFSPNLLGDPENFTPANPLVTPPHIKPE*YFLFAYAILRSIPNKLGGVLALAASVLILFLIPLLHKSKQRTIAFRPLSQLLF*ALVANLAILTWVGSQPVEHPFIIIGQLASLTYFTILLILFPSIGALENKILNH*\n",
      "\n",
      "Translation to protein of Pygoscelis antarctica : MAPNLRKSHPLLKIINNSLIDLPTPSNISA**NFGSLLGICLTTQILTGLLLAIHYTADTTLAFSSIAHTCRDVQYG*LIRNIHANGASLLFICIYLHIGRGVYDGSYLHKET*NTGVILLLTLIATAFVGYVLP*GQISF*GATVITNLFSAIPYIGQTIVE*A*GGFSVDNPTLTRFFALHFLLPFIITGLTLIHLTFLHESGSNNPLGIVANSDKIPFHPYYSTKDILGFTLILLPLTTLALFSPNLLGDPENFTPANPLVTPPHIKPE*YFLFAYAILRSIPNKLGGVLALAASVLVLFLSPLLHKSKQRTIAFRPLSQLLF*TLVANLLILT*IGSQPVEHPFIIIGQLASTTYFIILLILFPITSALENKILNF*\n",
      "\n",
      "Translation to protein of Pygoscelis papua : MAPNLRKSHPLLKIINKSLIDLPTPPNISA**NFGSLLGICLITQILTGLLLAIHYTADTTLAFSSIAHTCRNVQYG*LIRNLHANGASFFFICIYFHIGRGLYYGSYLYKET*NTGIILLLTLIATAFVGYVLP*GQISF*GATVITNLFSAIPYVGQTLVE*A*GGFSVDNPTLTRFFALHFLLPFIITGLTLIHLTFLHESGSNNPLGIVANSDKIPFHPYYSTKDILGFALILLPLTTLALFSPNLLGDPENFTPANPLVTPPHIKPE*YFLFAYAILRSIPNKLGGVLALAASVLILFLSPLLHKSKQRTIAFRPLSQLLF*TLVANLLILT*IGSQPVEHPFIIIGQLASTTYFIILLILFPITSALENKILNF*\n",
      "\n",
      "Translation to protein of Spheniscus demersus : MAPNLRKSHPLLKTINNSLIDLPTPSNISA**NFGSLLGICLATQILTGLLLAAHYTADTTLAFSSVAHICRNVQYG*LIRNLHANGASFFFICIYLHIGRGLYYGSYLYKET*NTGIILLLTLIATAFVGYVLP*GQISF*GATVITNLFSAIPYIGQTLVE*A*GGFSVDNPTLTRFFALHFLLPFIITGLTLIHLTFLHESGSNNPLGIVANSDKIPFHPYYSTKDILGFILLLLPLTTLALFSPNLLGDPENFTPANPLVTPPHIKPE*YFLFAYAILRSIPNKLGGVLALAASVLILFLIPLLHKSKQRTIAFRPLSQLLF*TLVANLIILT*IGSQPVEHPFIAIGQLASFTYFTTLLILFPLAGALENKILNH*\n",
      "\n",
      "Translation to protein of Spheniscus humboldti : MAPNLRKSHPLLKTINNSLIDLPTPSNISA**NFGSLLSICLATQILTGLLLAAHYTADTTLAFSSVAHICRNVQYG*LIRNLHANGASFFFICIYLHIGRGLYYGSYLHKET*NTGIILLLTLIATAFVGYVLP*GQISF*GATVITNLFSAIPYIGQTLVE*A*GGFSVDNPTLTRFFALHFLLPFIITGLALIHLTFLHESGSNNPLGIVANSDKIPFHPYYSTKDILGFILLLLPLTTLALFSPNLLGDPENFTPANPLVTPPHIKPE*YFLFAYAILRSIPNKLGGVLALAASVLILFLIPLLHKSKQRTIAFRPLSQLLF*TLVANLIILT*VGSQPVEHPFIIIGQLASLTYFTTLLILFPLAGALENKILNH*\n",
      "\n",
      "Translation to protein of Spheniscus magellanicus : MAPNLRKSHPLLKTINNSLIDLPTPSNISA**NFGSLLGICLATQILTGLLLAAHYTADTTLAFSSVAHICRNVQYG*LIRNLHANGASFFFICIYLHIGRGLYYGSYLYKET*NTGIILLLTLIATAFVGYVLP*GQISF*GATVITNLFSAIPYIGQTLVE*A*GGFSVDNPTLTRFFALHFLLPFIITGLTLIHLTFLHESGSNNPLGIVANSDKIPFHPYYSTKDILGFILLLLPLTTLALFSPNLLGDPENFTPANPLVTPPHIKPE*YFLFAYAILRSIPNKLGGVLALAASVLILFLIPLLHKSKQRTIAFRPLSQLLF*TLVANLIILT*VGSQPVEHPFIIIGQLASFTYFTTLLILFPLAGALENKILNH*\n",
      "\n"
     ]
    }
   ],
   "source": [
    "## 3 ##\n",
    "from Bio.Seq import Seq\n",
    "from Bio import SeqIO\n",
    "from Bio.Alphabet import IUPAC\n",
    "#write a for loop that will read through the dictionary and pull the species names (description) and values (sequences)\n",
    "for key, value in penguin_library.items():\n",
    "    #use the biopython translate function to translate the DNA to protein\n",
    "    protein = value.translate(to_stop=False)\n",
    "    #print statement for each species\n",
    "    print(\"Translation to protein of \" + key +\" : \" + protein + \"\\n\")"
   ]
  },
  {
   "cell_type": "markdown",
   "metadata": {},
   "source": [
    "# Question 4\n",
    "## Write a function that calculates the molecular of each 3 amino acid sequence."
   ]
  },
  {
   "cell_type": "code",
   "execution_count": 50,
   "metadata": {
    "collapsed": false
   },
   "outputs": [
    {
     "name": "stdout",
     "output_type": "stream",
     "text": [
      "Molecular weight of Aptenodytes forsteri protein: 3268.8268000000007\n",
      "Molecular weight of Aptenodytes patagonicus protein: 3268.8268000000007\n",
      "Molecular weight of Eudyptes chrysocome protein: 3256.7731000000013\n",
      "Molecular weight of Eudyptes chrysolophus protein: 3256.7731000000013\n",
      "Molecular weight of Eudyptes sclateri protein: 3256.7731000000013\n",
      "Molecular weight of Eudyptula minor protein: 3298.8528000000015\n",
      "Molecular weight of Pygoscelis adeliae protein: 3268.8268000000007\n",
      "Molecular weight of Pygoscelis antarctica protein: 3268.8268000000007\n",
      "Molecular weight of Pygoscelis papua protein: 3292.934400000001\n",
      "Molecular weight of Spheniscus demersus protein: 3256.7731000000013\n",
      "Molecular weight of Spheniscus humboldti protein: 3256.7731000000013\n",
      "Molecular weight of Spheniscus magellanicus protein: 3256.7731000000013\n"
     ]
    }
   ],
   "source": [
    "## 4 ##\n",
    "from Bio.SeqUtils.ProtParam import ProteinAnalysis\n",
    "from Bio.Seq import Seq\n",
    "from Bio import SeqIO\n",
    "from Bio.Alphabet import IUPAC\n",
    "\n",
    "#create a variable that will be needed in the loop\n",
    "molecular_weight_list = []\n",
    "#write a for loop that will read through the dictionary and pull the species names (description) and values (sequences)\n",
    "for key, value in penguin_library.items():\n",
    "    #use the biopython translate function to translate the DNA to protein\n",
    "    protein = value.translate(to_stop=True)\n",
    "    #use the str() function to change the variable into a string\n",
    "    protein_string = str(protein) \n",
    "    #use the PROTEINANALYSIS function to analyse the sequence\n",
    "    analysed_seq = ProteinAnalysis(protein_string)\n",
    "    #use the MOLECULAR_WEIGHT function to acquire the molecular weight\n",
    "    string_weight = str(analysed_seq.molecular_weight())\n",
    "    #create a list of all the molecular weights to use later\n",
    "    molecular_weight_list.append(string_weight)\n",
    "    #print statement for each species\n",
    "    print(\"Molecular weight of \" + key +\" protein: \" + string_weight)"
   ]
  },
  {
   "cell_type": "markdown",
   "metadata": {},
   "source": [
    "# Question 5\n",
    "## Write a function that computes the GC-content of each DNA sequence."
   ]
  },
  {
   "cell_type": "code",
   "execution_count": 25,
   "metadata": {
    "collapsed": false
   },
   "outputs": [
    {
     "name": "stdout",
     "output_type": "stream",
     "text": [
      "GC content of Aptenodytes forsteri sequence: 48.38145231846019\n",
      "GC content of Aptenodytes patagonicus sequence: 49.69378827646544\n",
      "GC content of Eudyptes chrysocome sequence: 51.181102362204726\n",
      "GC content of Eudyptes chrysolophus sequence: 50.91863517060367\n",
      "GC content of Eudyptes sclateri sequence: 50.83114610673666\n",
      "GC content of Eudyptula minor sequence: 49.25634295713036\n",
      "GC content of Pygoscelis adeliae sequence: 49.08136482939633\n",
      "GC content of Pygoscelis antarctica sequence: 47.76902887139108\n",
      "GC content of Pygoscelis papua sequence: 47.15660542432196\n",
      "GC content of Spheniscus demersus sequence: 48.29396325459317\n",
      "GC content of Spheniscus humboldti sequence: 49.25634295713036\n",
      "GC content of Spheniscus magellanicus sequence: 48.20647419072616\n"
     ]
    }
   ],
   "source": [
    "## 5 ##\n",
    "from Bio.Seq import Seq\n",
    "from Bio import SeqIO\n",
    "from Bio.Alphabet import IUPAC\n",
    "from Bio.SeqUtils import GC\n",
    "#write a for loop that will read through the dictionary and pull the species names (description) and values (sequences)\n",
    "for key, value in penguin_library.items():\n",
    "    #use the biopython function GC() to calculate GC content\n",
    "    GC_content = GC(value)\n",
    "    #convert GC content to a string for use later\n",
    "    GC_string = str(GC_content)\n",
    "    #print statement for each species\n",
    "    print(\"GC content of \" + key + \" sequence: \" + GC_string)"
   ]
  },
  {
   "cell_type": "markdown",
   "metadata": {},
   "source": [
    "# Question 6\n",
    "## Add two new columns to the penguin DataFrame: (1) molecular weight and (2) GC content."
   ]
  },
  {
   "cell_type": "code",
   "execution_count": 26,
   "metadata": {
    "collapsed": true
   },
   "outputs": [],
   "source": [
    "## 6 ##\n",
    "import numpy as np\n",
    "import pandas as pd\n",
    "penguins_df = pd.read_csv(\"penguins_mass.csv\") # Includes only data for body mass \n",
    "#add new columns to df and set them as not a number (NaN)\n",
    "penguins_df[\"Molecular Weight\"] = np.nan\n",
    "penguins_df[\"GC Content\"] = np.nan"
   ]
  },
  {
   "cell_type": "markdown",
   "metadata": {},
   "source": [
    "# Question 7:\n",
    "## Call your functions from step 3 (or step 2) and step 4 and fill in the new columns in the DataFrame."
   ]
  },
  {
   "cell_type": "code",
   "execution_count": 75,
   "metadata": {
    "collapsed": false
   },
   "outputs": [
    {
     "data": {
      "text/html": [
       "<div>\n",
       "<table border=\"1\" class=\"dataframe\">\n",
       "  <thead>\n",
       "    <tr style=\"text-align: right;\">\n",
       "      <th></th>\n",
       "      <th>species</th>\n",
       "      <th>mass</th>\n",
       "      <th>Molecular Weight</th>\n",
       "      <th>GC Content</th>\n",
       "    </tr>\n",
       "  </thead>\n",
       "  <tbody>\n",
       "    <tr>\n",
       "      <th>0</th>\n",
       "      <td>Aptenodytes forsteri</td>\n",
       "      <td>28.00</td>\n",
       "      <td>3268.8268000000007</td>\n",
       "      <td>48.381452</td>\n",
       "    </tr>\n",
       "    <tr>\n",
       "      <th>1</th>\n",
       "      <td>Aptenodytes patagonicus</td>\n",
       "      <td>13.40</td>\n",
       "      <td>3268.8268000000007</td>\n",
       "      <td>49.693788</td>\n",
       "    </tr>\n",
       "    <tr>\n",
       "      <th>2</th>\n",
       "      <td>Eudyptes chrysocome</td>\n",
       "      <td>2.80</td>\n",
       "      <td>3256.7731000000013</td>\n",
       "      <td>51.181102</td>\n",
       "    </tr>\n",
       "    <tr>\n",
       "      <th>3</th>\n",
       "      <td>Eudyptes chrysolophus</td>\n",
       "      <td>4.50</td>\n",
       "      <td>3256.7731000000013</td>\n",
       "      <td>50.918635</td>\n",
       "    </tr>\n",
       "    <tr>\n",
       "      <th>4</th>\n",
       "      <td>Eudyptes sclateri</td>\n",
       "      <td>4.25</td>\n",
       "      <td>3256.7731000000013</td>\n",
       "      <td>50.831146</td>\n",
       "    </tr>\n",
       "    <tr>\n",
       "      <th>5</th>\n",
       "      <td>Eudyptula minor</td>\n",
       "      <td>1.60</td>\n",
       "      <td>3298.8528000000015</td>\n",
       "      <td>49.256343</td>\n",
       "    </tr>\n",
       "    <tr>\n",
       "      <th>6</th>\n",
       "      <td>Pygoscelis adeliae</td>\n",
       "      <td>4.60</td>\n",
       "      <td>3268.8268000000007</td>\n",
       "      <td>49.081365</td>\n",
       "    </tr>\n",
       "    <tr>\n",
       "      <th>7</th>\n",
       "      <td>Pygoscelis antarctica</td>\n",
       "      <td>4.10</td>\n",
       "      <td>3268.8268000000007</td>\n",
       "      <td>47.769029</td>\n",
       "    </tr>\n",
       "    <tr>\n",
       "      <th>8</th>\n",
       "      <td>Pygoscelis papua</td>\n",
       "      <td>6.10</td>\n",
       "      <td>3292.934400000001</td>\n",
       "      <td>47.156605</td>\n",
       "    </tr>\n",
       "    <tr>\n",
       "      <th>9</th>\n",
       "      <td>Spheniscus demersus</td>\n",
       "      <td>3.20</td>\n",
       "      <td>3256.7731000000013</td>\n",
       "      <td>48.293963</td>\n",
       "    </tr>\n",
       "    <tr>\n",
       "      <th>10</th>\n",
       "      <td>Spheniscus humboldti</td>\n",
       "      <td>4.75</td>\n",
       "      <td>3256.7731000000013</td>\n",
       "      <td>49.256343</td>\n",
       "    </tr>\n",
       "    <tr>\n",
       "      <th>11</th>\n",
       "      <td>Spheniscus magellanicus</td>\n",
       "      <td>3.40</td>\n",
       "      <td>3256.7731000000013</td>\n",
       "      <td>48.206474</td>\n",
       "    </tr>\n",
       "  </tbody>\n",
       "</table>\n",
       "</div>"
      ],
      "text/plain": [
       "                    species   mass    Molecular Weight  GC Content\n",
       "0      Aptenodytes forsteri  28.00  3268.8268000000007   48.381452\n",
       "1   Aptenodytes patagonicus  13.40  3268.8268000000007   49.693788\n",
       "2       Eudyptes chrysocome   2.80  3256.7731000000013   51.181102\n",
       "3     Eudyptes chrysolophus   4.50  3256.7731000000013   50.918635\n",
       "4         Eudyptes sclateri   4.25  3256.7731000000013   50.831146\n",
       "5           Eudyptula minor   1.60  3298.8528000000015   49.256343\n",
       "6        Pygoscelis adeliae   4.60  3268.8268000000007   49.081365\n",
       "7     Pygoscelis antarctica   4.10  3268.8268000000007   47.769029\n",
       "8          Pygoscelis papua   6.10   3292.934400000001   47.156605\n",
       "9       Spheniscus demersus   3.20  3256.7731000000013   48.293963\n",
       "10     Spheniscus humboldti   4.75  3256.7731000000013   49.256343\n",
       "11  Spheniscus magellanicus   3.40  3256.7731000000013   48.206474"
      ]
     },
     "execution_count": 75,
     "metadata": {},
     "output_type": "execute_result"
    }
   ],
   "source": [
    "## 7 ##\n",
    "from Bio.Seq import Seq\n",
    "from Bio import SeqIO\n",
    "from Bio.Alphabet import IUPAC\n",
    "from Bio.SeqUtils import GC\n",
    "from Bio.SeqUtils.ProtParam import ProteinAnalysis\n",
    "import numpy as np\n",
    "import pandas as pd\n",
    "\n",
    "#write a for loop that will read through the dictionary and pull the species names (description) and values (sequences)\n",
    "for key, value in penguin_library.items():\n",
    "    #use the biopython translate function to translate the DNA to protein\n",
    "    protein = value.translate(to_stop=True)\n",
    "    #use the str() function to change the variable into a string\n",
    "    protein_string = str(protein) \n",
    "    #use the PROTEINANALYSIS function to analyse the sequence\n",
    "    analysed_seq = ProteinAnalysis(protein_string)\n",
    "    #use the MOLECULAR_WEIGHT function to acquire the molecular weight\n",
    "    string_weight = str(analysed_seq.molecular_weight())\n",
    "    #create a list of all the molecular weights to use later\n",
    "    molecular_weight_list.append(string_weight)\n",
    "    #use the biopython function GC() to calculate GC content\n",
    "    GC_content = GC(value)\n",
    "    #convert GC content to a string for use later\n",
    "    GC_string = str(GC_content)\n",
    "    #create a list of all the GC Content to use later\n",
    "    GC_content_list.append(GC_content)\n",
    "\n",
    "#change list to an array so that we can append it to our dataframe\n",
    "molecular_weight_array = np.asarray(molecular_weight_list)\n",
    "#add array to our data frame under Molecular Weight column heading\n",
    "penguins_df[\"Molecular Weight\"] = pd.Series(molecular_weight_array)\n",
    "\n",
    "#change list to an array so that we can append it to our dataframe\n",
    "GC_content_array = np.asarray(GC_content_list)\n",
    "#add array to our data frame under GC Content column heading\n",
    "penguins_df[\"GC Content\"] = pd.Series(GC_content_array)\n",
    "\n",
    "#display dataframe\n",
    "penguins_df\n"
   ]
  },
  {
   "cell_type": "code",
   "execution_count": 32,
   "metadata": {
    "collapsed": true
   },
   "outputs": [],
   "source": [
    "## 7 ##\n",
    "#####################################################################\n",
    "#from Bio.Seq import Seq\n",
    "#from Bio import SeqIO\n",
    "#from Bio.Alphabet import IUPAC\n",
    "#from Bio.SeqUtils import GC\n",
    "#from Bio.SeqUtils.ProtParam import ProteinAnalysis\n",
    "#import numpy as np\n",
    "#import pandas as pd\n",
    "#\n",
    "#penguins_df = pd.read_csv(\"penguins_mass.csv\") # Includes only data for body mass \n",
    "#penguins_df[\"Molecular Weight\"] = np.nan\n",
    "#penguins_df[\"GC Content\"] = np.nan\n",
    "#\n",
    "#penguins_df.set_index(\"species\", inplace=True)\n",
    "#for key, value in penguin_library.items():\n",
    "#    protein = value.translate(to_stop=True)\n",
    "#    protein_string = str(protein) \n",
    "#    analysed_seq = ProteinAnalysis(protein_string)\n",
    "#    penguins_df.loc[key,\"Molecular Weight\"] = analysed_seq.molecular_weight()\n",
    "#    penguins_df.loc[key,\"GC Content\"] = GC(value)\n",
    "#\n",
    "#penguins_df\n",
    "## "
   ]
  },
  {
   "cell_type": "markdown",
   "metadata": {},
   "source": [
    "# Question 8\n",
    "## Plot a bar-chart of the mass with the x-axes labeled with species names."
   ]
  },
  {
   "cell_type": "code",
   "execution_count": 33,
   "metadata": {
    "collapsed": false
   },
   "outputs": [
    {
     "data": {
      "text/plain": [
       "[<matplotlib.text.Text at 0x19bddce6eb8>,\n",
       " <matplotlib.text.Text at 0x19bdda232b0>]"
      ]
     },
     "execution_count": 33,
     "metadata": {},
     "output_type": "execute_result"
    },
    {
     "data": {
      "image/png": "[encoded data removed]",
      "text/plain": [
       "<matplotlib.figure.Figure at 0x19bddd599e8>"
      ]
     },
     "metadata": {},
     "output_type": "display_data"
    }
   ],
   "source": [
    "## 8 ##\n",
    "#import matplot lib and seaborn\n",
    "import matplotlib.pyplot as plt\n",
    "import seaborn as sns\n",
    "\n",
    "#set the plot dimensions\n",
    "plot_dims = (14, 9)\n",
    "\n",
    "#Create barchart using matplotlib and seaborn\n",
    "fig, ax = plt.subplots(figsize=plot_dims)\n",
    "#set x variable as species and y variable as mass\n",
    "sns.barplot(x = 'species', y = 'mass', data=penguins_df)\n",
    "#set labels of chart\n",
    "ax.set(xlabel='Species ID', ylabel='Mass (kg)')\n",
    "\n",
    "## *Q1* What is the smallest penguin species? \n",
    "#Eudyptula minor\n",
    "## *Q2* What else is interesting about this species?\n",
    "#Their protein has the highest molecular weight of all the penguins in the dataset\n",
    "\n"
   ]
  },
  {
   "cell_type": "markdown",
   "metadata": {},
   "source": [
    "# Question 9\n",
    "## Plot a visualization of the molecular weight (y-axis) as a function of GC-content (x-axis)."
   ]
  },
  {
   "cell_type": "code",
   "execution_count": 74,
   "metadata": {
    "collapsed": false
   },
   "outputs": [
    {
     "data": {
      "text/plain": [
       "<seaborn.axisgrid.FacetGrid at 0x19be097d710>"
      ]
     },
     "execution_count": 74,
     "metadata": {},
     "output_type": "execute_result"
    },
    {
     "data": {
      "image/png": "[encoded data removed]",
      "text/plain": [
       "<matplotlib.figure.Figure at 0x19be097d0b8>"
      ]
     },
     "metadata": {},
     "output_type": "display_data"
    }
   ],
   "source": [
    "## 9 ##\n",
    "import seaborn as sns\n",
    "%matplotlib inline\n",
    "#I had to change \"Molecular Weight\" to a number for this to work (I was getting an error).\n",
    "penguins_df1 = penguins_df.apply(pd.to_numeric, errors='coerce')\n",
    "#use the lmplot function to plot our data across a FacetGrid\n",
    "sns.lmplot(\"GC Content\", \"Molecular Weight\", data=penguins_df1, fit_reg=False)"
   ]
  },
  {
   "cell_type": "markdown",
   "metadata": {},
   "source": [
    "# Question 10\n",
    "## Save the new DataFrame to a file called \"penguins_mass_cytb.csv\""
   ]
  },
  {
   "cell_type": "code",
   "execution_count": 45,
   "metadata": {
    "collapsed": true
   },
   "outputs": [],
   "source": [
    "## 10 ##\n",
    "## Save the new DataFrame to a file called \"penguins_mass_cytb.csv\"\n",
    "penguins_df.to_csv(\"penguins_mass_cytb.csv\", sep=',', encoding='utf-8', index=False)"
   ]
  },
  {
   "cell_type": "code",
   "execution_count": 68,
   "metadata": {
    "collapsed": false
   },
   "outputs": [
    {
     "data": {
      "text/html": [
       "<div>\n",
       "<table border=\"1\" class=\"dataframe\">\n",
       "  <thead>\n",
       "    <tr style=\"text-align: right;\">\n",
       "      <th></th>\n",
       "      <th>species</th>\n",
       "      <th>mass</th>\n",
       "      <th>Molecular Weight</th>\n",
       "      <th>GC Content</th>\n",
       "    </tr>\n",
       "  </thead>\n",
       "  <tbody>\n",
       "    <tr>\n",
       "      <th>0</th>\n",
       "      <td>Aptenodytes forsteri</td>\n",
       "      <td>28.00</td>\n",
       "      <td>3268.8268000000007</td>\n",
       "      <td>48.381452</td>\n",
       "    </tr>\n",
       "    <tr>\n",
       "      <th>1</th>\n",
       "      <td>Aptenodytes patagonicus</td>\n",
       "      <td>13.40</td>\n",
       "      <td>3268.8268000000007</td>\n",
       "      <td>49.693788</td>\n",
       "    </tr>\n",
       "    <tr>\n",
       "      <th>2</th>\n",
       "      <td>Eudyptes chrysocome</td>\n",
       "      <td>2.80</td>\n",
       "      <td>3256.7731000000013</td>\n",
       "      <td>51.181102</td>\n",
       "    </tr>\n",
       "    <tr>\n",
       "      <th>3</th>\n",
       "      <td>Eudyptes chrysolophus</td>\n",
       "      <td>4.50</td>\n",
       "      <td>3256.7731000000013</td>\n",
       "      <td>50.918635</td>\n",
       "    </tr>\n",
       "    <tr>\n",
       "      <th>4</th>\n",
       "      <td>Eudyptes sclateri</td>\n",
       "      <td>4.25</td>\n",
       "      <td>3256.7731000000013</td>\n",
       "      <td>50.831146</td>\n",
       "    </tr>\n",
       "    <tr>\n",
       "      <th>5</th>\n",
       "      <td>Eudyptula minor</td>\n",
       "      <td>1.60</td>\n",
       "      <td>3298.8528000000015</td>\n",
       "      <td>49.256343</td>\n",
       "    </tr>\n",
       "    <tr>\n",
       "      <th>6</th>\n",
       "      <td>Pygoscelis adeliae</td>\n",
       "      <td>4.60</td>\n",
       "      <td>3268.8268000000007</td>\n",
       "      <td>49.081365</td>\n",
       "    </tr>\n",
       "    <tr>\n",
       "      <th>7</th>\n",
       "      <td>Pygoscelis antarctica</td>\n",
       "      <td>4.10</td>\n",
       "      <td>3268.8268000000007</td>\n",
       "      <td>47.769029</td>\n",
       "    </tr>\n",
       "    <tr>\n",
       "      <th>8</th>\n",
       "      <td>Pygoscelis papua</td>\n",
       "      <td>6.10</td>\n",
       "      <td>3292.934400000001</td>\n",
       "      <td>47.156605</td>\n",
       "    </tr>\n",
       "    <tr>\n",
       "      <th>9</th>\n",
       "      <td>Spheniscus demersus</td>\n",
       "      <td>3.20</td>\n",
       "      <td>3256.7731000000013</td>\n",
       "      <td>48.293963</td>\n",
       "    </tr>\n",
       "    <tr>\n",
       "      <th>10</th>\n",
       "      <td>Spheniscus humboldti</td>\n",
       "      <td>4.75</td>\n",
       "      <td>3256.7731000000013</td>\n",
       "      <td>49.256343</td>\n",
       "    </tr>\n",
       "    <tr>\n",
       "      <th>11</th>\n",
       "      <td>Spheniscus magellanicus</td>\n",
       "      <td>3.40</td>\n",
       "      <td>3256.7731000000013</td>\n",
       "      <td>48.206474</td>\n",
       "    </tr>\n",
       "  </tbody>\n",
       "</table>\n",
       "</div>"
      ],
      "text/plain": [
       "                    species   mass    Molecular Weight  GC Content\n",
       "0      Aptenodytes forsteri  28.00  3268.8268000000007   48.381452\n",
       "1   Aptenodytes patagonicus  13.40  3268.8268000000007   49.693788\n",
       "2       Eudyptes chrysocome   2.80  3256.7731000000013   51.181102\n",
       "3     Eudyptes chrysolophus   4.50  3256.7731000000013   50.918635\n",
       "4         Eudyptes sclateri   4.25  3256.7731000000013   50.831146\n",
       "5           Eudyptula minor   1.60  3298.8528000000015   49.256343\n",
       "6        Pygoscelis adeliae   4.60  3268.8268000000007   49.081365\n",
       "7     Pygoscelis antarctica   4.10  3268.8268000000007   47.769029\n",
       "8          Pygoscelis papua   6.10   3292.934400000001   47.156605\n",
       "9       Spheniscus demersus   3.20  3256.7731000000013   48.293963\n",
       "10     Spheniscus humboldti   4.75  3256.7731000000013   49.256343\n",
       "11  Spheniscus magellanicus   3.40  3256.7731000000013   48.206474"
      ]
     },
     "execution_count": 68,
     "metadata": {},
     "output_type": "execute_result"
    }
   ],
   "source": [
    "penguins_df"
   ]
  },
  {
   "cell_type": "code",
   "execution_count": null,
   "metadata": {
    "collapsed": true
   },
   "outputs": [],
   "source": []
  }
 ],
 "metadata": {
  "kernelspec": {
   "display_name": "Python 3",
   "language": "python",
   "name": "python3"
  },
  "language_info": {
   "codemirror_mode": {
    "name": "ipython",
    "version": 3
   },
   "file_extension": ".py",
   "mimetype": "text/x-python",
   "name": "python",
   "nbconvert_exporter": "python",
   "pygments_lexer": "ipython3",
   "version": "3.6.0"
  }
 },
 "nbformat": 4,
 "nbformat_minor": 2
}
